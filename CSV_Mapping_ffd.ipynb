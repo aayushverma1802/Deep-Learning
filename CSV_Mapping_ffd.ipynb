{
 "cells": [
  {
   "cell_type": "code",
   "execution_count": null,
   "metadata": {},
   "outputs": [],
   "source": [
    "# This code is only for the Educational Purpose of Mapping images to csv to train the model\n",
    "# This is a demo sub code of a superset code\n",
    "# Do not run this as it will surely create Error"
   ]
  },
  {
   "cell_type": "code",
   "execution_count": null,
   "metadata": {},
   "outputs": [],
   "source": [
    "# No use of raw you need to typecast this\n",
    "import pandas as pd\n",
    "from tensorflow.keras.preprocessing.image import ImageDataGenerator\n",
    "\n",
    "# Load CSV Files\n",
    "train_df = pd.read_csv(\"/kaggle/input/aptos2019/train_1.csv\")\n",
    "val_df = pd.read_csv(\"/kaggle/input/aptos2019/valid.csv\")\n",
    "test_df = pd.read_csv(\"/kaggle/input/aptos2019/test.csv\")\n",
    "\n",
    "# Add \".png\" extension to filenames\n",
    "train_df[\"id_code\"] = train_df[\"id_code\"] + \".png\"\n",
    "val_df[\"id_code\"] = val_df[\"id_code\"] + \".png\"\n",
    "test_df[\"id_code\"] = test_df[\"id_code\"] + \".png\"  # No labels for test\n",
    "\n",
    "# Define ImageDataGenerator\n",
    "datagen = ImageDataGenerator(rescale=1./255)\n",
    "\n",
    "# Train Data\n",
    "train_data = datagen.flow_from_dataframe(\n",
    "    dataframe=train_df,\n",
    "    directory=\"/kaggle/input/aptos2019/train_images/\",\n",
    "    x_col=\"id_code\",\n",
    "    y_col=\"diagnosis\",\n",
    "    target_size=(224, 224),\n",
    "    batch_size=32,\n",
    "    class_mode=\"sparse\"\n",
    ")\n",
    "\n",
    "# Validation Data\n",
    "val_data = datagen.flow_from_dataframe(\n",
    "    dataframe=val_df,\n",
    "    directory=\"/kaggle/input/aptos2019/train_images/\",\n",
    "    x_col=\"id_code\",\n",
    "    y_col=\"diagnosis\",\n",
    "    target_size=(224, 224),\n",
    "    batch_size=32,\n",
    "    class_mode=\"sparse\"\n",
    ")\n",
    "\n",
    "# Test Data (No Labels)\n",
    "test_data = datagen.flow_from_dataframe(\n",
    "    dataframe=test_df,\n",
    "    directory=\"/kaggle/input/aptos2019/test_images/\",\n",
    "    x_col=\"id_code\",\n",
    "    y_col=None,  # No labels for test\n",
    "    target_size=(224, 224),\n",
    "    batch_size=32,\n",
    "    class_mode=None,  # No labels\n",
    "    shuffle=False  # Keep order for predictions\n",
    ")\n",
    "\n",
    "# Check batch shapes\n",
    "x_batch, y_batch = next(train_data)\n",
    "print(\"Train batch X shape:\", x_batch.shape)  # (32, 224, 224, 3)\n",
    "print(\"Train labels:\", y_batch)  # Example: [0, 2, 4, 0, ...]\n"
   ]
  },
  {
   "cell_type": "code",
   "execution_count": null,
   "metadata": {},
   "outputs": [],
   "source": [
    "# Use of Raw\n",
    "\n",
    "# No need to convert labels to strings, keep them as integers\n",
    "train_data = datagen.flow_from_dataframe(\n",
    "    dataframe=train_df,\n",
    "    directory=\"/kaggle/input/aptos2019/train_images/\",\n",
    "    x_col=\"id_code\",\n",
    "    y_col=\"diagnosis\",  # Integer labels\n",
    "    target_size=(224, 224),\n",
    "    batch_size=32,\n",
    "    class_mode=\"raw\"  # Keeps labels as integers\n",
    ")\n",
    "\n",
    "val_data = datagen.flow_from_dataframe(\n",
    "    dataframe=val_df,\n",
    "    directory=\"/kaggle/input/aptos2019/train_images/\",\n",
    "    x_col=\"id_code\",\n",
    "    y_col=\"diagnosis\",\n",
    "    target_size=(224, 224),\n",
    "    batch_size=32,\n",
    "    class_mode=\"raw\"  # Keeps labels as integers\n",
    ")\n"
   ]
  },
  {
   "cell_type": "code",
   "execution_count": null,
   "metadata": {},
   "outputs": [],
   "source": [
    "train_df[\"diagnosis\"] = train_df[\"diagnosis\"].astype(str)  \n",
    "# If you convert it into the string"
   ]
  },
  {
   "cell_type": "code",
   "execution_count": null,
   "metadata": {},
   "outputs": [],
   "source": [
    "# Remember sparse in flow_from_dataframe requires string \n",
    "# so when you have int then yse raw for no convertion and if you have string then typecast it"
   ]
  }
 ],
 "metadata": {
  "language_info": {
   "name": "python"
  }
 },
 "nbformat": 4,
 "nbformat_minor": 2
}
